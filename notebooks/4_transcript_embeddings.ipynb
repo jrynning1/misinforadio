{
 "cells": [
  {
   "cell_type": "code",
   "execution_count": 50,
   "metadata": {},
   "outputs": [
    {
     "name": "stdout",
     "output_type": "stream",
     "text": [
      "Importing transcript json...\n"
     ]
    }
   ],
   "source": [
    "# This script compares embedded radio transcripts and fact-checks,\n",
    "# returning a CSV file of potential misinformation\n",
    "\n",
    "# ensure libretranslate is running on port 5000 before running this script\n",
    "\n",
    "import pandas as pd\n",
    "import os\n",
    "import numpy as np\n",
    "from pathlib import Path\n",
    "from openai import OpenAI\n",
    "\n",
    "# add your OpenAI API key\n",
    "client = OpenAI(api_key=os.environ.get(\"OPENAI_API_KEY\", \"sk-proj-HSrHGyOHtEDtr9loLzRjT3BlbkFJTUFaqCLYDEs3B7qpBz7z\"))\n",
    "\n",
    "transcript_json= Path().cwd().parent.joinpath('data/output_json/transcript.json')\n",
    "\n",
    "print('Importing transcript json...')\n",
    "\n",
    "transcript_df = pd.read_json(transcript_json)\n"
   ]
  },
  {
   "cell_type": "code",
   "execution_count": 2,
   "metadata": {},
   "outputs": [
    {
     "name": "stdout",
     "output_type": "stream",
     "text": [
      "Organizing data...\n"
     ]
    }
   ],
   "source": [
    "print('Organizing data...')\n",
    "\n",
    "exploded_transcript_df = transcript_df.explode('transcription').reset_index(drop=True)\n",
    "\n",
    "exploded_transcript_df = exploded_transcript_df[['file_name', 'transcription']]"
   ]
  },
  {
   "cell_type": "code",
   "execution_count": 15,
   "metadata": {},
   "outputs": [],
   "source": [
    "exploded_transcript_df[\"transcription_before\"] = exploded_transcript_df['transcription'].shift(1, fill_value=' ')"
   ]
  },
  {
   "cell_type": "code",
   "execution_count": 18,
   "metadata": {},
   "outputs": [],
   "source": [
    "exploded_transcript_df['transcription_after'] = exploded_transcript_df['transcription'].shift(-1, fill_value=' ')"
   ]
  },
  {
   "cell_type": "code",
   "execution_count": 38,
   "metadata": {},
   "outputs": [],
   "source": [
    "exploded_transcript_df['transcription_with_context'] = exploded_transcript_df['transcription_before'] + \" \" + exploded_transcript_df['transcription'] + \" \" + exploded_transcript_df['transcription_after']"
   ]
  },
  {
   "cell_type": "code",
   "execution_count": 39,
   "metadata": {},
   "outputs": [],
   "source": [
    "exploded_transcript_df['transcription_with_context'] = exploded_transcript_df['transcription_with_context'].apply(lambda x: x.strip())"
   ]
  },
  {
   "cell_type": "code",
   "execution_count": 43,
   "metadata": {},
   "outputs": [],
   "source": [
    "\n",
    "def get_embedding(text, model=\"text-embedding-3-small\"):\n",
    "    text = text.replace(\"\\n\", \" \")\n",
    "    return client.embeddings.create(input = [text], model=model).data[0].embedding\n"
   ]
  },
  {
   "cell_type": "code",
   "execution_count": 53,
   "metadata": {},
   "outputs": [
    {
     "name": "stdout",
     "output_type": "stream",
     "text": [
      " Embedding segment 3756 of 23621 segments -- 15% complete         Failed to generate embedding for segment 3756 of 23621\n",
      " Embedding segment 10196 of 23621 segments -- 43% complete         Failed to generate embedding for segment 10196 of 23621\n",
      " Embedding segment 15985 of 23621 segments -- 67% complete         Failed to generate embedding for segment 15985 of 23621\n",
      " Embedding segment 23620 of 23621 segments -- 99% complete         "
     ]
    }
   ],
   "source": [
    "transcription_embeddings_list = []\n",
    "counter = 0\n",
    "for segment in exploded_transcript_df['transcription']:\n",
    "    print_text = f\"Embedding segment {counter} of {len(exploded_transcript_df['transcription'])} segments -- {int((counter)/len(exploded_transcript_df['transcription'])*100)}% complete         \"\n",
    "    print(\"\\r\", print_text, end=\"\")\n",
    "    try:\n",
    "        embedding = get_embedding(segment)\n",
    "    except:\n",
    "        embedding = np.nan\n",
    "        print(f\"Failed to generate embedding for segment {counter} of {len(exploded_transcript_df['transcription'])}\")\n",
    "    transcription_embeddings_list.append(embedding)\n",
    "    counter += 1\n",
    "\n",
    "exploded_transcript_df['transcription_embedding'] = transcription_embeddings_list"
   ]
  },
  {
   "cell_type": "code",
   "execution_count": 54,
   "metadata": {},
   "outputs": [
    {
     "name": "stdout",
     "output_type": "stream",
     "text": [
      " Embedding context segment 855 of 23621 segments -- 3% complete         "
     ]
    }
   ],
   "source": [
    "transcription_with_context_embeddings_list = []\n",
    "counter = 0\n",
    "for segment in exploded_transcript_df['transcription_with_context']:\n",
    "    print_text = f\"Embedding context segment {counter} of {len(exploded_transcript_df['transcription_with_context'])} segments -- {int((counter)/len(exploded_transcript_df['transcription_with_context'])*100)}% complete         \"\n",
    "    print(\"\\r\", print_text, end=\"\")\n",
    "    try:\n",
    "        embedding = get_embedding(segment)\n",
    "    except:\n",
    "        embedding = np.nan\n",
    "        print(f\"Failed to generate embedding for context segment {counter} of {len(exploded_transcript_df['transcription'])}\")\n",
    "    transcription_with_context_embeddings_list.append(embedding)\n",
    "    counter += 1\n",
    "\n",
    "exploded_transcript_df['transcription_with_context_embedding'] = transcription_with_context_embeddings_list"
   ]
  },
  {
   "cell_type": "code",
   "execution_count": null,
   "metadata": {},
   "outputs": [],
   "source": [
    "exploded_transcript_df"
   ]
  },
  {
   "cell_type": "code",
   "execution_count": null,
   "metadata": {},
   "outputs": [],
   "source": [
    "embedded_transcripts_path = embedded_false_statements_path = Path().cwd().parent.joinpath('data/embedded_transcripts/embedded_transcripts.csv')\n",
    "\n",
    "exploded_transcript_df.to_csv(embedded_transcripts_path)"
   ]
  }
 ],
 "metadata": {
  "kernelspec": {
   "display_name": "misinforadio-testing-VjISiCkA",
   "language": "python",
   "name": "python3"
  },
  "language_info": {
   "codemirror_mode": {
    "name": "ipython",
    "version": 3
   },
   "file_extension": ".py",
   "mimetype": "text/x-python",
   "name": "python",
   "nbconvert_exporter": "python",
   "pygments_lexer": "ipython3",
   "version": "3.11.9"
  }
 },
 "nbformat": 4,
 "nbformat_minor": 2
}
