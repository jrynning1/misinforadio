{
 "cells": [
  {
   "cell_type": "code",
   "execution_count": 1,
   "metadata": {},
   "outputs": [
    {
     "name": "stdout",
     "output_type": "stream",
     "text": [
      "Importing transcript json...\n"
     ]
    }
   ],
   "source": [
    "# This script compares embedded radio transcripts and fact-checks,\n",
    "# returning a CSV file of potential misinformation\n",
    "\n",
    "# ensure libretranslate is running on port 5000 before running this script\n",
    "\n",
    "import pandas as pd\n",
    "import os\n",
    "import numpy as np\n",
    "from pathlib import Path\n",
    "from openai import OpenAI\n",
    "\n",
    "# add your OpenAI API key\n",
    "client = OpenAI(api_key=os.environ.get(\"OPENAI_API_KEY\", \"sk-proj-HSrHGyOHtEDtr9loLzRjT3BlbkFJTUFaqCLYDEs3B7qpBz7z\"))\n",
    "\n",
    "transcript_json= Path().cwd().parent.joinpath('data/output_json/transcript.json')\n",
    "\n",
    "print('Importing transcript json...')\n",
    "\n",
    "transcript_df = pd.read_json(transcript_json)\n"
   ]
  },
  {
   "cell_type": "code",
   "execution_count": 2,
   "metadata": {},
   "outputs": [
    {
     "name": "stdout",
     "output_type": "stream",
     "text": [
      "Organizing data...\n"
     ]
    }
   ],
   "source": [
    "print('Organizing data...')\n",
    "\n",
    "exploded_transcript_df = transcript_df.explode('transcription').reset_index(drop=True)\n",
    "\n",
    "exploded_transcript_df = exploded_transcript_df[['file_name', 'transcription']]"
   ]
  },
  {
   "cell_type": "code",
   "execution_count": 3,
   "metadata": {},
   "outputs": [],
   "source": [
    "exploded_transcript_df[\"transcription_before\"] = exploded_transcript_df['transcription'].shift(1, fill_value=' ')"
   ]
  },
  {
   "cell_type": "code",
   "execution_count": 4,
   "metadata": {},
   "outputs": [],
   "source": [
    "exploded_transcript_df['transcription_after'] = exploded_transcript_df['transcription'].shift(-1, fill_value=' ')"
   ]
  },
  {
   "cell_type": "code",
   "execution_count": 5,
   "metadata": {},
   "outputs": [],
   "source": [
    "exploded_transcript_df['transcription_with_context'] = exploded_transcript_df['transcription_before'] + \" \" + exploded_transcript_df['transcription'] + \" \" + exploded_transcript_df['transcription_after']"
   ]
  },
  {
   "cell_type": "code",
   "execution_count": 6,
   "metadata": {},
   "outputs": [],
   "source": [
    "exploded_transcript_df['transcription_with_context'] = exploded_transcript_df['transcription_with_context'].apply(lambda x: x.strip())"
   ]
  },
  {
   "cell_type": "code",
   "execution_count": 7,
   "metadata": {},
   "outputs": [],
   "source": [
    "\n",
    "def get_embedding(text, model=\"text-embedding-3-small\"):\n",
    "    text = text.replace(\"\\n\", \" \")\n",
    "    return client.embeddings.create(input = [text], model=model).data[0].embedding\n"
   ]
  },
  {
   "cell_type": "code",
   "execution_count": 8,
   "metadata": {},
   "outputs": [
    {
     "name": "stdout",
     "output_type": "stream",
     "text": [
      " Embedding segment 3756 of 23621 segments -- 15% complete         Failed to generate embedding for segment 3756 of 23621\n",
      " Embedding segment 10196 of 23621 segments -- 43% complete         Failed to generate embedding for segment 10196 of 23621\n",
      " Embedding segment 15985 of 23621 segments -- 67% complete         Failed to generate embedding for segment 15985 of 23621\n",
      " Embedding segment 23620 of 23621 segments -- 99% complete         "
     ]
    }
   ],
   "source": [
    "transcription_embeddings_list = []\n",
    "counter = 0\n",
    "for segment in exploded_transcript_df['transcription']:\n",
    "    print_text = f\"Embedding segment {counter} of {len(exploded_transcript_df['transcription'])} segments -- {int((counter)/len(exploded_transcript_df['transcription'])*100)}% complete         \"\n",
    "    print(\"\\r\", print_text, end=\"\")\n",
    "    try:\n",
    "        embedding = get_embedding(segment)\n",
    "    except:\n",
    "        embedding = 0\n",
    "        print(f\"Failed to generate embedding for segment {counter} of {len(exploded_transcript_df['transcription'])}\")\n",
    "    transcription_embeddings_list.append(embedding)\n",
    "    counter += 1\n",
    "\n",
    "exploded_transcript_df['transcription_embedding'] = transcription_embeddings_list"
   ]
  },
  {
   "cell_type": "code",
   "execution_count": 9,
   "metadata": {},
   "outputs": [
    {
     "name": "stdout",
     "output_type": "stream",
     "text": [
      " Embedding context segment 23620 of 23621 segments -- 99% complete         "
     ]
    }
   ],
   "source": [
    "transcription_with_context_embeddings_list = []\n",
    "counter = 0\n",
    "for segment in exploded_transcript_df['transcription_with_context']:\n",
    "    print_text = f\"Embedding context segment {counter} of {len(exploded_transcript_df['transcription_with_context'])} segments -- {int((counter)/len(exploded_transcript_df['transcription_with_context'])*100)}% complete         \"\n",
    "    print(\"\\r\", print_text, end=\"\")\n",
    "    try:\n",
    "        embedding = get_embedding(segment)\n",
    "    except:\n",
    "        embedding = 0\n",
    "        print(f\"Failed to generate embedding for context segment {counter} of {len(exploded_transcript_df['transcription'])}\")\n",
    "    transcription_with_context_embeddings_list.append(embedding)\n",
    "    counter += 1\n",
    "\n",
    "exploded_transcript_df['transcription_with_context_embedding'] = transcription_with_context_embeddings_list"
   ]
  },
  {
   "cell_type": "code",
   "execution_count": 10,
   "metadata": {},
   "outputs": [
    {
     "data": {
      "text/html": [
       "<div>\n",
       "<style scoped>\n",
       "    .dataframe tbody tr th:only-of-type {\n",
       "        vertical-align: middle;\n",
       "    }\n",
       "\n",
       "    .dataframe tbody tr th {\n",
       "        vertical-align: top;\n",
       "    }\n",
       "\n",
       "    .dataframe thead th {\n",
       "        text-align: right;\n",
       "    }\n",
       "</style>\n",
       "<table border=\"1\" class=\"dataframe\">\n",
       "  <thead>\n",
       "    <tr style=\"text-align: right;\">\n",
       "      <th></th>\n",
       "      <th>file_name</th>\n",
       "      <th>transcription</th>\n",
       "      <th>transcription_before</th>\n",
       "      <th>transcription_after</th>\n",
       "      <th>transcription_with_context</th>\n",
       "      <th>transcription_embedding</th>\n",
       "      <th>transcription_with_context_embedding</th>\n",
       "    </tr>\n",
       "  </thead>\n",
       "  <tbody>\n",
       "    <tr>\n",
       "      <th>0</th>\n",
       "      <td>KCKO_107_9_AM_20240601_130000_000.mp3</td>\n",
       "      <td>Bonito, todo me parece bonito Que bonito que ...</td>\n",
       "      <td></td>\n",
       "      <td>Cuando te va bonito que te va Cuando te va bon...</td>\n",
       "      <td>Bonito, todo me parece bonito Que bonito que t...</td>\n",
       "      <td>[0.007744003087282181, -0.036393869668245316, ...</td>\n",
       "      <td>[0.010290478356182575, -0.037478603422641754, ...</td>\n",
       "    </tr>\n",
       "    <tr>\n",
       "      <th>1</th>\n",
       "      <td>KCKO_107_9_AM_20240601_130000_000.mp3</td>\n",
       "      <td>Cuando te va bonito que te va Cuando te va bon...</td>\n",
       "      <td>Bonito, todo me parece bonito Que bonito que ...</td>\n",
       "      <td>Cuando te va bonito que te va Cuando te va bon...</td>\n",
       "      <td>Bonito, todo me parece bonito Que bonito que t...</td>\n",
       "      <td>[0.009081456810235977, -0.03175891190767288, -...</td>\n",
       "      <td>[0.004798032809048891, -0.018404632806777954, ...</td>\n",
       "    </tr>\n",
       "    <tr>\n",
       "      <th>2</th>\n",
       "      <td>KCKO_107_9_AM_20240601_130000_000.mp3</td>\n",
       "      <td>Cuando te va bonito que te va Cuando te va bon...</td>\n",
       "      <td>Cuando te va bonito que te va Cuando te va bon...</td>\n",
       "      <td>¡Más de lo que te gusta! ¡Acelera! ¡Acelera! ¡...</td>\n",
       "      <td>Cuando te va bonito que te va Cuando te va bon...</td>\n",
       "      <td>[0.005347225349396467, -0.01722787693142891, -...</td>\n",
       "      <td>[0.00919861625880003, -0.015014556236565113, -...</td>\n",
       "    </tr>\n",
       "    <tr>\n",
       "      <th>3</th>\n",
       "      <td>KCKO_107_9_AM_20240601_130000_000.mp3</td>\n",
       "      <td>¡Más de lo que te gusta! ¡Acelera! ¡Acelera! ¡...</td>\n",
       "      <td>Cuando te va bonito que te va Cuando te va bon...</td>\n",
       "      <td>m$ km Pongas entre tu yas dudas que poros Pue...</td>\n",
       "      <td>Cuando te va bonito que te va Cuando te va bon...</td>\n",
       "      <td>[0.049135785549879074, -0.009870842099189758, ...</td>\n",
       "      <td>[0.03353051468729973, -0.017319098114967346, -...</td>\n",
       "    </tr>\n",
       "    <tr>\n",
       "      <th>4</th>\n",
       "      <td>KCKO_107_9_AM_20240601_130000_001.mp3</td>\n",
       "      <td>m$ km Pongas entre tu yas dudas que poros Pue...</td>\n",
       "      <td>¡Más de lo que te gusta! ¡Acelera! ¡Acelera! ¡...</td>\n",
       "      <td>Están una morca simbocife Y mis siete como el...</td>\n",
       "      <td>¡Más de lo que te gusta! ¡Acelera! ¡Acelera! ¡...</td>\n",
       "      <td>[0.032236598432064056, -0.007982238195836544, ...</td>\n",
       "      <td>[0.0459740050137043, -0.013996646739542484, -0...</td>\n",
       "    </tr>\n",
       "    <tr>\n",
       "      <th>...</th>\n",
       "      <td>...</td>\n",
       "      <td>...</td>\n",
       "      <td>...</td>\n",
       "      <td>...</td>\n",
       "      <td>...</td>\n",
       "      <td>...</td>\n",
       "      <td>...</td>\n",
       "    </tr>\n",
       "    <tr>\n",
       "      <th>23616</th>\n",
       "      <td>WWFE_670_AM_20240601_100000_017.mp3</td>\n",
       "      <td>También es un increíble padre</td>\n",
       "      <td>Y con pasión, ayuda hasta personas que no conoce</td>\n",
       "      <td>El siempre, siempre tiene tiempo para su familia</td>\n",
       "      <td>Y con pasión, ayuda hasta personas que no cono...</td>\n",
       "      <td>[0.06576722860336304, 0.018034888431429863, -0...</td>\n",
       "      <td>[0.0626211166381836, 0.010116624645888805, -0....</td>\n",
       "    </tr>\n",
       "    <tr>\n",
       "      <th>23617</th>\n",
       "      <td>WWFE_670_AM_20240601_100000_017.mp3</td>\n",
       "      <td>El siempre, siempre tiene tiempo para su familia</td>\n",
       "      <td>También es un increíble padre</td>\n",
       "      <td>Yo, Elisa de Mari</td>\n",
       "      <td>También es un increíble padre El siempre, siem...</td>\n",
       "      <td>[0.03570161759853363, 0.03936721384525299, -0....</td>\n",
       "      <td>[0.04543386772274971, 0.014276322908699512, -0...</td>\n",
       "    </tr>\n",
       "    <tr>\n",
       "      <th>23618</th>\n",
       "      <td>WWFE_670_AM_20240601_100000_017.mp3</td>\n",
       "      <td>Yo, Elisa de Mari</td>\n",
       "      <td>El siempre, siempre tiene tiempo para su familia</td>\n",
       "      <td>Amos, Amipopá, Jorge de Asfias</td>\n",
       "      <td>El siempre, siempre tiene tiempo para su famil...</td>\n",
       "      <td>[0.022891750559210777, -0.010619109496474266, ...</td>\n",
       "      <td>[0.028432738035917282, 0.004396406468003988, -...</td>\n",
       "    </tr>\n",
       "    <tr>\n",
       "      <th>23619</th>\n",
       "      <td>WWFE_670_AM_20240601_100000_017.mp3</td>\n",
       "      <td>Amos, Amipopá, Jorge de Asfias</td>\n",
       "      <td>Yo, Elisa de Mari</td>\n",
       "      <td>Wellmax y Pasteo Armarco Centres celebrando a ...</td>\n",
       "      <td>Yo, Elisa de Mari Amos, Amipopá, Jorge de Asfi...</td>\n",
       "      <td>[0.020974498242139816, 0.011386328376829624, -...</td>\n",
       "      <td>[0.044912174344062805, -0.01616838201880455, -...</td>\n",
       "    </tr>\n",
       "    <tr>\n",
       "      <th>23620</th>\n",
       "      <td>WWFE_670_AM_20240601_100000_017.mp3</td>\n",
       "      <td>Wellmax y Pasteo Armarco Centres celebrando a ...</td>\n",
       "      <td>Amos, Amipopá, Jorge de Asfias</td>\n",
       "      <td></td>\n",
       "      <td>Amos, Amipopá, Jorge de Asfias Wellmax y Paste...</td>\n",
       "      <td>[0.010330160148441792, 0.0042600748129189014, ...</td>\n",
       "      <td>[0.026107629761099815, -0.004939984530210495, ...</td>\n",
       "    </tr>\n",
       "  </tbody>\n",
       "</table>\n",
       "<p>23621 rows × 7 columns</p>\n",
       "</div>"
      ],
      "text/plain": [
       "                                   file_name  \\\n",
       "0      KCKO_107_9_AM_20240601_130000_000.mp3   \n",
       "1      KCKO_107_9_AM_20240601_130000_000.mp3   \n",
       "2      KCKO_107_9_AM_20240601_130000_000.mp3   \n",
       "3      KCKO_107_9_AM_20240601_130000_000.mp3   \n",
       "4      KCKO_107_9_AM_20240601_130000_001.mp3   \n",
       "...                                      ...   \n",
       "23616    WWFE_670_AM_20240601_100000_017.mp3   \n",
       "23617    WWFE_670_AM_20240601_100000_017.mp3   \n",
       "23618    WWFE_670_AM_20240601_100000_017.mp3   \n",
       "23619    WWFE_670_AM_20240601_100000_017.mp3   \n",
       "23620    WWFE_670_AM_20240601_100000_017.mp3   \n",
       "\n",
       "                                           transcription  \\\n",
       "0       Bonito, todo me parece bonito Que bonito que ...   \n",
       "1      Cuando te va bonito que te va Cuando te va bon...   \n",
       "2      Cuando te va bonito que te va Cuando te va bon...   \n",
       "3      ¡Más de lo que te gusta! ¡Acelera! ¡Acelera! ¡...   \n",
       "4       m$ km Pongas entre tu yas dudas que poros Pue...   \n",
       "...                                                  ...   \n",
       "23616                      También es un increíble padre   \n",
       "23617   El siempre, siempre tiene tiempo para su familia   \n",
       "23618                                  Yo, Elisa de Mari   \n",
       "23619                     Amos, Amipopá, Jorge de Asfias   \n",
       "23620  Wellmax y Pasteo Armarco Centres celebrando a ...   \n",
       "\n",
       "                                    transcription_before  \\\n",
       "0                                                          \n",
       "1       Bonito, todo me parece bonito Que bonito que ...   \n",
       "2      Cuando te va bonito que te va Cuando te va bon...   \n",
       "3      Cuando te va bonito que te va Cuando te va bon...   \n",
       "4      ¡Más de lo que te gusta! ¡Acelera! ¡Acelera! ¡...   \n",
       "...                                                  ...   \n",
       "23616   Y con pasión, ayuda hasta personas que no conoce   \n",
       "23617                      También es un increíble padre   \n",
       "23618   El siempre, siempre tiene tiempo para su familia   \n",
       "23619                                  Yo, Elisa de Mari   \n",
       "23620                     Amos, Amipopá, Jorge de Asfias   \n",
       "\n",
       "                                     transcription_after  \\\n",
       "0      Cuando te va bonito que te va Cuando te va bon...   \n",
       "1      Cuando te va bonito que te va Cuando te va bon...   \n",
       "2      ¡Más de lo que te gusta! ¡Acelera! ¡Acelera! ¡...   \n",
       "3       m$ km Pongas entre tu yas dudas que poros Pue...   \n",
       "4       Están una morca simbocife Y mis siete como el...   \n",
       "...                                                  ...   \n",
       "23616   El siempre, siempre tiene tiempo para su familia   \n",
       "23617                                  Yo, Elisa de Mari   \n",
       "23618                     Amos, Amipopá, Jorge de Asfias   \n",
       "23619  Wellmax y Pasteo Armarco Centres celebrando a ...   \n",
       "23620                                                      \n",
       "\n",
       "                              transcription_with_context  \\\n",
       "0      Bonito, todo me parece bonito Que bonito que t...   \n",
       "1      Bonito, todo me parece bonito Que bonito que t...   \n",
       "2      Cuando te va bonito que te va Cuando te va bon...   \n",
       "3      Cuando te va bonito que te va Cuando te va bon...   \n",
       "4      ¡Más de lo que te gusta! ¡Acelera! ¡Acelera! ¡...   \n",
       "...                                                  ...   \n",
       "23616  Y con pasión, ayuda hasta personas que no cono...   \n",
       "23617  También es un increíble padre El siempre, siem...   \n",
       "23618  El siempre, siempre tiene tiempo para su famil...   \n",
       "23619  Yo, Elisa de Mari Amos, Amipopá, Jorge de Asfi...   \n",
       "23620  Amos, Amipopá, Jorge de Asfias Wellmax y Paste...   \n",
       "\n",
       "                                 transcription_embedding  \\\n",
       "0      [0.007744003087282181, -0.036393869668245316, ...   \n",
       "1      [0.009081456810235977, -0.03175891190767288, -...   \n",
       "2      [0.005347225349396467, -0.01722787693142891, -...   \n",
       "3      [0.049135785549879074, -0.009870842099189758, ...   \n",
       "4      [0.032236598432064056, -0.007982238195836544, ...   \n",
       "...                                                  ...   \n",
       "23616  [0.06576722860336304, 0.018034888431429863, -0...   \n",
       "23617  [0.03570161759853363, 0.03936721384525299, -0....   \n",
       "23618  [0.022891750559210777, -0.010619109496474266, ...   \n",
       "23619  [0.020974498242139816, 0.011386328376829624, -...   \n",
       "23620  [0.010330160148441792, 0.0042600748129189014, ...   \n",
       "\n",
       "                    transcription_with_context_embedding  \n",
       "0      [0.010290478356182575, -0.037478603422641754, ...  \n",
       "1      [0.004798032809048891, -0.018404632806777954, ...  \n",
       "2      [0.00919861625880003, -0.015014556236565113, -...  \n",
       "3      [0.03353051468729973, -0.017319098114967346, -...  \n",
       "4      [0.0459740050137043, -0.013996646739542484, -0...  \n",
       "...                                                  ...  \n",
       "23616  [0.0626211166381836, 0.010116624645888805, -0....  \n",
       "23617  [0.04543386772274971, 0.014276322908699512, -0...  \n",
       "23618  [0.028432738035917282, 0.004396406468003988, -...  \n",
       "23619  [0.044912174344062805, -0.01616838201880455, -...  \n",
       "23620  [0.026107629761099815, -0.004939984530210495, ...  \n",
       "\n",
       "[23621 rows x 7 columns]"
      ]
     },
     "execution_count": 10,
     "metadata": {},
     "output_type": "execute_result"
    }
   ],
   "source": [
    "exploded_transcript_df"
   ]
  },
  {
   "cell_type": "code",
   "execution_count": 11,
   "metadata": {},
   "outputs": [],
   "source": [
    "embedded_transcripts_path = embedded_false_statements_path = Path().cwd().parent.joinpath('data/embedded_transcripts/embedded_transcripts.csv')\n",
    "\n",
    "exploded_transcript_df.to_csv(embedded_transcripts_path)"
   ]
  }
 ],
 "metadata": {
  "kernelspec": {
   "display_name": "misinforadio-testing-VjISiCkA",
   "language": "python",
   "name": "python3"
  },
  "language_info": {
   "codemirror_mode": {
    "name": "ipython",
    "version": 3
   },
   "file_extension": ".py",
   "mimetype": "text/x-python",
   "name": "python",
   "nbconvert_exporter": "python",
   "pygments_lexer": "ipython3",
   "version": "3.11.9"
  }
 },
 "nbformat": 4,
 "nbformat_minor": 2
}
