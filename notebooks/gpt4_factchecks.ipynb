{
 "cells": [
  {
   "cell_type": "code",
   "execution_count": 1,
   "metadata": {},
   "outputs": [],
   "source": [
    "import pandas as pd\n",
    "import tiktoken\n",
    "import os\n",
    "import numpy as np\n",
    "from pathlib import Path\n",
    "from ast import literal_eval"
   ]
  },
  {
   "cell_type": "code",
   "execution_count": 2,
   "metadata": {},
   "outputs": [],
   "source": [
    "from openai import OpenAI\n",
    "client = OpenAI(api_key=os.environ.get(\"OPENAI_API_KEY\", \"sk-proj-HSrHGyOHtEDtr9loLzRjT3BlbkFJTUFaqCLYDEs3B7qpBz7z\"))\n",
    "client = OpenAI()"
   ]
  },
  {
   "cell_type": "code",
   "execution_count": 5,
   "metadata": {},
   "outputs": [],
   "source": [
    "transcript_and_translation_json= Path().cwd().parent.joinpath('data/output_json/transcript_and_translation_1.json')"
   ]
  },
  {
   "cell_type": "code",
   "execution_count": 6,
   "metadata": {},
   "outputs": [],
   "source": [
    "transcript_and_translation_df = pd.read_json(transcript_and_translation_json)"
   ]
  },
  {
   "cell_type": "code",
   "execution_count": 58,
   "metadata": {},
   "outputs": [],
   "source": [
    "false_text_df = pd.read_csv('embedded_false_statements.csv')"
   ]
  },
  {
   "cell_type": "code",
   "execution_count": 8,
   "metadata": {},
   "outputs": [
    {
     "ename": "NameError",
     "evalue": "name 'false_text_df' is not defined",
     "output_type": "error",
     "traceback": [
      "\u001b[0;31m---------------------------------------------------------------------------\u001b[0m",
      "\u001b[0;31mNameError\u001b[0m                                 Traceback (most recent call last)",
      "Cell \u001b[0;32mIn[8], line 1\u001b[0m\n\u001b[0;32m----> 1\u001b[0m \u001b[43mfalse_text_df\u001b[49m\n",
      "\u001b[0;31mNameError\u001b[0m: name 'false_text_df' is not defined"
     ]
    }
   ],
   "source": [
    "false_text_df"
   ]
  },
  {
   "cell_type": "code",
   "execution_count": 60,
   "metadata": {},
   "outputs": [],
   "source": [
    "false_text_dict = false_text_df['statement_embedding'].to_dict()"
   ]
  },
  {
   "cell_type": "code",
   "execution_count": 61,
   "metadata": {},
   "outputs": [],
   "source": [
    "false_text_df['statement_embedding'] = false_text_df.statement_embedding.apply(eval).apply(np.array)"
   ]
  },
  {
   "cell_type": "code",
   "execution_count": 62,
   "metadata": {},
   "outputs": [
    {
     "data": {
      "text/plain": [
       "array([ 0.01533014, -0.00409743, -0.02695852, ...,  0.01104494,\n",
       "        0.01542403, -0.01582639])"
      ]
     },
     "execution_count": 62,
     "metadata": {},
     "output_type": "execute_result"
    }
   ],
   "source": [
    "false_text_df['statement_embedding'][0]"
   ]
  },
  {
   "cell_type": "code",
   "execution_count": 63,
   "metadata": {},
   "outputs": [],
   "source": [
    "def get_embedding(text, model=\"text-embedding-3-small\"):\n",
    "   text = text.replace(\"\\n\", \" \")\n",
    "   return client.embeddings.create(input = [text], model=model).data[0].embedding"
   ]
  },
  {
   "cell_type": "code",
   "execution_count": 64,
   "metadata": {},
   "outputs": [
    {
     "name": "stdout",
     "output_type": "stream",
     "text": [
      "Says Burisma admitted in a Ukrainian court to paying Joe Biden $900,000.\n",
      "\n",
      "James Biden \"built the cages\" and \"(the Bidens) made millions from it.\"\n",
      "\n",
      "\"Vice President Biden threatened a foreign country and forced them to fire a prosecutor who was investigating a company,\" that paid his son Hunter.\n",
      "\n"
     ]
    }
   ],
   "source": [
    "# Semantic text search using embeddings\n",
    "\n",
    "def cosine_similarity(vec1, vec2):\n",
    "    # Normalize each vector to unit length\n",
    "    vec1_norm = vec1 / np.linalg.norm(vec1)\n",
    "    vec2_norm = vec2 / np.linalg.norm(vec2)\n",
    "  \n",
    "    # Calculate dot product between normalized vectors\n",
    "    similarity = np.dot(vec1_norm, vec2_norm)\n",
    "    return similarity\n",
    "\n",
    "def search_false_statements(false_text_df, search_terms, n=3, pprint=True):\n",
    "   embedding = get_embedding(search_terms, model='text-embedding-3-small')\n",
    "   false_text_df['similarities'] = false_text_df.statement_embedding.apply(lambda x: cosine_similarity(x, embedding))\n",
    "   results = (\n",
    "      false_text_df.sort_values(\"similarities\", ascending=False)\n",
    "      .head(n).statement\n",
    "   )\n",
    "   if pprint:\n",
    "      for r in results:\n",
    "         print(r[:200])\n",
    "         print()\n",
    "   return results\n",
    "\n",
    "search_terms = \"Joe Biden took bribes\"\n",
    "results = search_false_statements(false_text_df, search_terms, n=3)"
   ]
  },
  {
   "cell_type": "code",
   "execution_count": 65,
   "metadata": {},
   "outputs": [
    {
     "data": {
      "text/plain": [
       "1727     Says Burisma admitted in a Ukrainian court to ...\n",
       "10431    James Biden \"built the cages\" and \"(the Bidens...\n",
       "8055     \"Vice President Biden threatened a foreign cou...\n",
       "Name: statement, dtype: object"
      ]
     },
     "execution_count": 65,
     "metadata": {},
     "output_type": "execute_result"
    }
   ],
   "source": [
    "false_text_df.sort_values('similarities',ascending=False).head(3).statement"
   ]
  },
  {
   "cell_type": "code",
   "execution_count": 66,
   "metadata": {},
   "outputs": [
    {
     "data": {
      "text/html": [
       "<div>\n",
       "<style scoped>\n",
       "    .dataframe tbody tr th:only-of-type {\n",
       "        vertical-align: middle;\n",
       "    }\n",
       "\n",
       "    .dataframe tbody tr th {\n",
       "        vertical-align: top;\n",
       "    }\n",
       "\n",
       "    .dataframe thead th {\n",
       "        text-align: right;\n",
       "    }\n",
       "</style>\n",
       "<table border=\"1\" class=\"dataframe\">\n",
       "  <thead>\n",
       "    <tr style=\"text-align: right;\">\n",
       "      <th></th>\n",
       "      <th>statement</th>\n",
       "      <th>statement_embedding</th>\n",
       "      <th>similarities</th>\n",
       "    </tr>\n",
       "  </thead>\n",
       "  <tbody>\n",
       "    <tr>\n",
       "      <th>1727</th>\n",
       "      <td>Says Burisma admitted in a Ukrainian court to ...</td>\n",
       "      <td>[-0.028112269937992096, -0.0002793215098790824...</td>\n",
       "      <td>0.568662</td>\n",
       "    </tr>\n",
       "    <tr>\n",
       "      <th>10431</th>\n",
       "      <td>James Biden \"built the cages\" and \"(the Bidens...</td>\n",
       "      <td>[0.022143803536891937, 0.026470474898815155, 0...</td>\n",
       "      <td>0.538659</td>\n",
       "    </tr>\n",
       "    <tr>\n",
       "      <th>8055</th>\n",
       "      <td>\"Vice President Biden threatened a foreign cou...</td>\n",
       "      <td>[-0.0046212030574679375, 0.00427797669544816, ...</td>\n",
       "      <td>0.524526</td>\n",
       "    </tr>\n",
       "    <tr>\n",
       "      <th>10727</th>\n",
       "      <td>Says Joe Biden is on video \"admitting to\" elec...</td>\n",
       "      <td>[0.012293009087443352, 0.011222226545214653, -...</td>\n",
       "      <td>0.522622</td>\n",
       "    </tr>\n",
       "    <tr>\n",
       "      <th>10808</th>\n",
       "      <td>Says Joe Biden \"blackmailed Ukraine with a bil...</td>\n",
       "      <td>[0.0015891429502516985, -0.016753120347857475,...</td>\n",
       "      <td>0.518484</td>\n",
       "    </tr>\n",
       "    <tr>\n",
       "      <th>...</th>\n",
       "      <td>...</td>\n",
       "      <td>...</td>\n",
       "      <td>...</td>\n",
       "    </tr>\n",
       "    <tr>\n",
       "      <th>4738</th>\n",
       "      <td>\"Pathogens evolve to become less, not more, vi...</td>\n",
       "      <td>[0.014994660392403603, 0.039969805628061295, 0...</td>\n",
       "      <td>-0.010904</td>\n",
       "    </tr>\n",
       "    <tr>\n",
       "      <th>6545</th>\n",
       "      <td>It’s a myth that autism is genetic.</td>\n",
       "      <td>[-0.0005327078979462385, 0.025457194074988365,...</td>\n",
       "      <td>-0.013286</td>\n",
       "    </tr>\n",
       "    <tr>\n",
       "      <th>11184</th>\n",
       "      <td>Live Nation scheduled the 50,000-person Astrow...</td>\n",
       "      <td>[-0.03187582641839981, -0.017262330278754234, ...</td>\n",
       "      <td>-0.015338</td>\n",
       "    </tr>\n",
       "    <tr>\n",
       "      <th>9993</th>\n",
       "      <td>\"This unit is the only one in the state that s...</td>\n",
       "      <td>[-0.004030685871839523, 0.032830316573381424, ...</td>\n",
       "      <td>-0.021204</td>\n",
       "    </tr>\n",
       "    <tr>\n",
       "      <th>2414</th>\n",
       "      <td>\"Each vegan spares more than 100 animals every...</td>\n",
       "      <td>[0.01583811268210411, -0.008966886438429356, 0...</td>\n",
       "      <td>-0.022876</td>\n",
       "    </tr>\n",
       "  </tbody>\n",
       "</table>\n",
       "<p>11760 rows × 3 columns</p>\n",
       "</div>"
      ],
      "text/plain": [
       "                                               statement  \\\n",
       "1727   Says Burisma admitted in a Ukrainian court to ...   \n",
       "10431  James Biden \"built the cages\" and \"(the Bidens...   \n",
       "8055   \"Vice President Biden threatened a foreign cou...   \n",
       "10727  Says Joe Biden is on video \"admitting to\" elec...   \n",
       "10808  Says Joe Biden \"blackmailed Ukraine with a bil...   \n",
       "...                                                  ...   \n",
       "4738   \"Pathogens evolve to become less, not more, vi...   \n",
       "6545                 It’s a myth that autism is genetic.   \n",
       "11184  Live Nation scheduled the 50,000-person Astrow...   \n",
       "9993   \"This unit is the only one in the state that s...   \n",
       "2414   \"Each vegan spares more than 100 animals every...   \n",
       "\n",
       "                                     statement_embedding  similarities  \n",
       "1727   [-0.028112269937992096, -0.0002793215098790824...      0.568662  \n",
       "10431  [0.022143803536891937, 0.026470474898815155, 0...      0.538659  \n",
       "8055   [-0.0046212030574679375, 0.00427797669544816, ...      0.524526  \n",
       "10727  [0.012293009087443352, 0.011222226545214653, -...      0.522622  \n",
       "10808  [0.0015891429502516985, -0.016753120347857475,...      0.518484  \n",
       "...                                                  ...           ...  \n",
       "4738   [0.014994660392403603, 0.039969805628061295, 0...     -0.010904  \n",
       "6545   [-0.0005327078979462385, 0.025457194074988365,...     -0.013286  \n",
       "11184  [-0.03187582641839981, -0.017262330278754234, ...     -0.015338  \n",
       "9993   [-0.004030685871839523, 0.032830316573381424, ...     -0.021204  \n",
       "2414   [0.01583811268210411, -0.008966886438429356, 0...     -0.022876  \n",
       "\n",
       "[11760 rows x 3 columns]"
      ]
     },
     "execution_count": 66,
     "metadata": {},
     "output_type": "execute_result"
    }
   ],
   "source": [
    "false_text_df.sort_values('similarities',ascending=False)"
   ]
  }
 ],
 "metadata": {
  "kernelspec": {
   "display_name": "spanish-radio-CFjM3rNK",
   "language": "python",
   "name": "python3"
  },
  "language_info": {
   "codemirror_mode": {
    "name": "ipython",
    "version": 3
   },
   "file_extension": ".py",
   "mimetype": "text/x-python",
   "name": "python",
   "nbconvert_exporter": "python",
   "pygments_lexer": "ipython3",
   "version": "3.11.9"
  }
 },
 "nbformat": 4,
 "nbformat_minor": 2
}
