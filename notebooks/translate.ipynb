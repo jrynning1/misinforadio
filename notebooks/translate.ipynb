{
 "cells": [
  {
   "cell_type": "markdown",
   "metadata": {},
   "source": [
    "Ensure LibreTranslate has started on localhost/server"
   ]
  },
  {
   "cell_type": "code",
   "execution_count": 2,
   "metadata": {},
   "outputs": [
    {
     "data": {
      "text/plain": [
       "'\\nimport json\\nimport sys\\nfrom urllib import request, parse\\n\\n\\nclass LibreTranslateAPI:\\n    \"\"\"Connect to the LibreTranslate API\"\"\"\\n\\n    \"\"\"Example usage:\\n    from libretranslatepy import LibreTranslateAPI\\n\\n    lt = LibreTranslateAPI(\"https://translate.terraprint.co/\")\\n\\n    print(lt.translate(\"LibreTranslate is awesome!\", \"en\", \"es\"))\\n    # LibreTranslate es impresionante!\\n\\n    print(lt.detect(\"Hello World\"))\\n    # [{\"confidence\": 0.6, \"language\": \"en\"}]\\n    \\n    print(lt.languages())\\n    # [{\"code\":\"en\", \"name\":\"English\"}]\\n    \"\"\"\\n\\n    DEFAULT_URL = \"https://translate.terraprint.co/\"\\n\\n    def __init__(self, url=None, api_key=None):\\n        \"\"\"Create a LibreTranslate API connection.\\n\\n        Args:\\n            url (str): The url of the LibreTranslate endpoint.\\n            api_key (str): The API key.\\n        \"\"\"\\n        self.url = LibreTranslateAPI.DEFAULT_URL if url is None else url\\n        self.api_key = api_key\\n\\n        # Add trailing slash\\n        assert len(self.url) > 0\\n        if self.url[-1] != \"/\":\\n            self.url += \"/\"\\n\\n    def translate(self, q, source=\"en\", target=\"es\"):\\n        \"\"\"Translate string\\n\\n        Args:\\n            q (str): The text to translate\\n            source (str): The source language code (ISO 639)\\n            target (str): The target language code (ISO 639)\\n\\n        Returns:\\n            str: The translated text\\n        \"\"\"\\n        url = self.url + \"translate\"\\n        params = {\"q\": q, \"source\": source, \"target\": target}\\n        if self.api_key is not None:\\n            params[\"api_key\"] = self.api_key\\n        url_params = parse.urlencode(params)\\n        req = request.Request(url, data=url_params.encode())\\n        response = request.urlopen(req)\\n        response_str = response.read().decode()\\n        return json.loads(response_str)[\"translatedText\"]\\n\\n    def detect(self, q):\\n        \"\"\"Detect the language of a single text.\\n\\n        Args:\\n            q (str): Text to detect\\n\\n        Returns:\\n            The detected languages ex: [{\"confidence\": 0.6, \"language\": \"en\"}]\\n        \"\"\"\\n        url = self.url + \"detect\"\\n        params = {\"q\": q}\\n        if self.api_key is not None:\\n            params[\"api_key\"] = self.api_key\\n        url_params = parse.urlencode(params)\\n        req = request.Request(url, data=url_params.encode())\\n        response = request.urlopen(req)\\n        response_str = response.read().decode()\\n        return json.loads(response_str)\\n\\n    def languages(self):\\n        \"\"\"Retrieve list of supported languages.\\n\\n        Returns:\\n            A list of available languages ex: [{\"code\":\"en\", \"name\":\"English\"}]\\n        \"\"\"\\n        url = self.url + \"languages\"\\n        params = dict()\\n        if self.api_key is not None:\\n            params[\"api_key\"] = self.api_key\\n        url_params = parse.urlencode(params)\\n        req = request.Request(url, data=url_params.encode(), method=\"GET\")\\n        response = request.urlopen(req)\\n        response_str = response.read().decode()\\n        return json.loads(response_str)\\n'"
      ]
     },
     "execution_count": 2,
     "metadata": {},
     "output_type": "execute_result"
    }
   ],
   "source": [
    "# LibreTranslate source code\n",
    "'''\n",
    "import json\n",
    "import sys\n",
    "from urllib import request, parse\n",
    "\n",
    "\n",
    "class LibreTranslateAPI:\n",
    "    \"\"\"Connect to the LibreTranslate API\"\"\"\n",
    "\n",
    "    \"\"\"Example usage:\n",
    "    from libretranslatepy import LibreTranslateAPI\n",
    "\n",
    "    lt = LibreTranslateAPI(\"https://translate.terraprint.co/\")\n",
    "\n",
    "    print(lt.translate(\"LibreTranslate is awesome!\", \"en\", \"es\"))\n",
    "    # LibreTranslate es impresionante!\n",
    "\n",
    "    print(lt.detect(\"Hello World\"))\n",
    "    # [{\"confidence\": 0.6, \"language\": \"en\"}]\n",
    "    \n",
    "    print(lt.languages())\n",
    "    # [{\"code\":\"en\", \"name\":\"English\"}]\n",
    "    \"\"\"\n",
    "\n",
    "    DEFAULT_URL = \"https://translate.terraprint.co/\"\n",
    "\n",
    "    def __init__(self, url=None, api_key=None):\n",
    "        \"\"\"Create a LibreTranslate API connection.\n",
    "\n",
    "        Args:\n",
    "            url (str): The url of the LibreTranslate endpoint.\n",
    "            api_key (str): The API key.\n",
    "        \"\"\"\n",
    "        self.url = LibreTranslateAPI.DEFAULT_URL if url is None else url\n",
    "        self.api_key = api_key\n",
    "\n",
    "        # Add trailing slash\n",
    "        assert len(self.url) > 0\n",
    "        if self.url[-1] != \"/\":\n",
    "            self.url += \"/\"\n",
    "\n",
    "    def translate(self, q, source=\"en\", target=\"es\"):\n",
    "        \"\"\"Translate string\n",
    "\n",
    "        Args:\n",
    "            q (str): The text to translate\n",
    "            source (str): The source language code (ISO 639)\n",
    "            target (str): The target language code (ISO 639)\n",
    "\n",
    "        Returns:\n",
    "            str: The translated text\n",
    "        \"\"\"\n",
    "        url = self.url + \"translate\"\n",
    "        params = {\"q\": q, \"source\": source, \"target\": target}\n",
    "        if self.api_key is not None:\n",
    "            params[\"api_key\"] = self.api_key\n",
    "        url_params = parse.urlencode(params)\n",
    "        req = request.Request(url, data=url_params.encode())\n",
    "        response = request.urlopen(req)\n",
    "        response_str = response.read().decode()\n",
    "        return json.loads(response_str)[\"translatedText\"]\n",
    "\n",
    "    def detect(self, q):\n",
    "        \"\"\"Detect the language of a single text.\n",
    "\n",
    "        Args:\n",
    "            q (str): Text to detect\n",
    "\n",
    "        Returns:\n",
    "            The detected languages ex: [{\"confidence\": 0.6, \"language\": \"en\"}]\n",
    "        \"\"\"\n",
    "        url = self.url + \"detect\"\n",
    "        params = {\"q\": q}\n",
    "        if self.api_key is not None:\n",
    "            params[\"api_key\"] = self.api_key\n",
    "        url_params = parse.urlencode(params)\n",
    "        req = request.Request(url, data=url_params.encode())\n",
    "        response = request.urlopen(req)\n",
    "        response_str = response.read().decode()\n",
    "        return json.loads(response_str)\n",
    "\n",
    "    def languages(self):\n",
    "        \"\"\"Retrieve list of supported languages.\n",
    "\n",
    "        Returns:\n",
    "            A list of available languages ex: [{\"code\":\"en\", \"name\":\"English\"}]\n",
    "        \"\"\"\n",
    "        url = self.url + \"languages\"\n",
    "        params = dict()\n",
    "        if self.api_key is not None:\n",
    "            params[\"api_key\"] = self.api_key\n",
    "        url_params = parse.urlencode(params)\n",
    "        req = request.Request(url, data=url_params.encode(), method=\"GET\")\n",
    "        response = request.urlopen(req)\n",
    "        response_str = response.read().decode()\n",
    "        return json.loads(response_str)\n",
    "''' "
   ]
  },
  {
   "cell_type": "code",
   "execution_count": 1,
   "metadata": {},
   "outputs": [
    {
     "data": {
      "text/plain": [
       "' \\nprint(lt.translate(\"LibreTranslate is awesome!\", \"es\", \"en\"))\\n# LibreTranslate es impresionante!\\n\\nprint(lt.detect(\"Hello World\"))\\n# [{\"confidence\": 0.6, \"language\": \"en\"}]\\n\\nprint(lt.languages())\\n# [{\"code\":\"en\", \"name\":\"English\"}]\\n'"
      ]
     },
     "execution_count": 1,
     "metadata": {},
     "output_type": "execute_result"
    }
   ],
   "source": [
    "from libretranslatepy import LibreTranslateAPI\n",
    "\n",
    "lt = LibreTranslateAPI(\"http://localhost:5000\")\n",
    "''' \n",
    "print(lt.translate(\"LibreTranslate is awesome!\", \"es\", \"en\"))\n",
    "# LibreTranslate es impresionante!\n",
    "\n",
    "print(lt.detect(\"Hello World\"))\n",
    "# [{\"confidence\": 0.6, \"language\": \"en\"}]\n",
    "\n",
    "print(lt.languages())\n",
    "# [{\"code\":\"en\", \"name\":\"English\"}]\n",
    "'''"
   ]
  },
  {
   "cell_type": "code",
   "execution_count": 2,
   "metadata": {},
   "outputs": [
    {
     "name": "stdout",
     "output_type": "stream",
     "text": [
      "when there's pain and there's a doctor, I don't know if you know him, Dr. Gabor Mate. Even the best. He says he speaks a lot of trauma and he says trauma is not what happened to us, that is, my mom left me at nine, I saw violence, that is, I saw abuse all my life, I have no moments of happiness. When I was growing up, I was sexually abused by a teacher. All these things I can't erase any of that. That's all part of my story. But as I reacted to that, it's becoming trauma and trauma trauma trauma about trauma. Then he says trauma is not what happened to us, but the way we reacted to him. And we all have trauma to your capital or your lowercase. I think those of us who became addicts and who came to the brink of death, we have trauma to the capital T and more. And the more vulnerable we get, the more we find that person that helps us to embrace that cactus, the faster it will make us live with history, to be able to tell it and from time to time to see one that another flower in the cactus. Exactly. And I share it a lot with my patients, it's not just the addict. In life we have to, there's a time we have to embrace our pain because what hurts you, if what makes you is that the answer usually touches a cactus and pricks you, you shake your hand, right? Then you're going to keep clicking because you're going to want to grab it, because the trend can be a relationship, a loved one who has a problem, can be difficulties you're facing, a disease you're facing. It can be depression, anxiety, diagnosis of bipolarity, which are chronic, which is for life. When we want to turn our backs on those difficult situations, we continue to stick with it instead of hugging it and making it part of us. That pain is part of your story, it's part of your life. And when you embrace it and make it part of your life, you're facing it and there you get to start the process of overcoming or recovery, which is our case. That's right. And it's important. I had always wanted to write a book always, that is, if or better said, I always liked to write a lot. I really liked to read and in fact in the reading I found sosiego and peace when all around me was chaotic and I always read a lot. I liked it a lot and inevitably I think that when you read, you like it. From time to time you think you are a writer or you become a pseudopoet or whatever, I always wanted to write the book and I couldn't until I managed to heal. Those wounds so deep and I would like to say that I was the one who healed, that it was or that it was Dr. Mejía or that it was, but actually today April 25, 2024. The one who healed me was God. No doubt. A lot of people helped me see those wounds and I'm infinitely grateful because I could see where that pain came from now. Healing comes because they are spiritual wounds. healing can only come from God. So I, I skated a long time, skated, skated. I never counted. When I tell you that a teacher abused me, that was the biggest secret I had and I have worked in campaigning, in campaigns for the Senate, I have met with three governors, I have made one. No, I've been a team, but we've always worked to do a lot of things for and for the young people in Foster Care in the Florida care system. We changed laws. We've done a lot of things. However, that part of my story never told her because I was embarrassed, because I always thought they would judge me, because I thought because I always blamed myself. Because when, when the abuse happened, I was 13 years old, I was already taking, I had already smoked. I already, that is, I in my mind, I already felt an almost adult and then. I thought that I had allowed that sexual abuse of that teacher and when it is not until many years after it is because of circumstances that I, that now, is why I am convinced that only God does. God in one way will put you in situations in life where they are opportunities to go healing gradually, to see those wounds. And then, if you're still on that road in the groups, there's a very nice saying that I believe it now, I understand it and it's not Don Lee Before the Miracle Happens. Don't leave before the miracle happens. So, when, when one can see at those times that of much pain that God has used people, situations to heal, it is when, when I begin to heal, I begin to see the wound and when my daughter was 13 years old, that gives her an appendicitis, which was the age when the teacher had abused me. She's in the hospital, at the Children's Hospital, here in Nicholas, and the nurse comes in, we were my wife and I were with our daughter. The nurse comes in and asks Sara, my daughter. I have to ask you a few questions. You want your parents to leave the room? My daughter, in her pain, I saw her face turkey when she looks at the nurse and tells her I don't want her to ever leave my side. At the time. I understood that at the age of 13 I could not have done anything to avoid that abuse of that teacher, despite how great I believed, 13 years is still a child. So when I see that and there's another set of things going on and I can forgive. I wanted it first. Well, that happens later. Even though that happened, I still hadn't told this story. I start working with victims of human trafficking and one of the things we wanted to do was take the traffickers to jail. And one of the things we did was work with the victims to talk to the state prosecutor, with the FBI, with the government agencies to put these traffickers in jail. One of them one day tells me you're very hard on us and you're all you want is to get the traffickers to jail. And me, but how? I'm doing this and she tells me no, no, no. You've never put a teacher's complaint that abused you. Because I had already told them, because there is one thing. Street credibility. So you can't, you can't bullshit to bullshitter. So I needed to have credibility with the people, with the tails, with the survivors and the victims I was working on. And the best way I was to tell them my story. When you tell me this was like a bucket of cold water and it was totally true. If I told them, but the other day I call, I call the Houston Police Department, the Houston Independent School District, I write a letter. Already by the status limitation one could no longer do anything. I make the complaint and I thought after I did this, I was going to feel peace. And the opposite happened completely. I got a thirst for revenge, a need that I wanted to see this professor in jail, I got an obsession, started looking for him. I find it, it's in eighty-eight years, it's in Cuernavaca, Mexico. I wonder why? Yeah, because he's American, but anyway, that's another one. That's another one. And I start looking for him, meeting, talking to some friends at one at a local television station, connecting with their affiliate in Mexico, finding the professor in Mexico, locating him in Cuernavaca, locating where he is living and going to do a special. You're talking about being yellowish. This was gonna be the yellow special. They were going to get to this eighty-foot-year-old teacher's house, focusing on the camera and asking him to look, Mr. Reeves, why did you abuse Nelson Incapié in Houston in 1989? When he was a student, I was going to be on satellite. This was gonna be all set. I'm walking my dog one night in front of the church where we're going. It was late, I walked the dog and I feel in my heart. Like a voice tells me to let it go. So and I immediately in.\n"
     ]
    }
   ],
   "source": [
    "print(lt.translate(\"cuando hay dolor y hay un doctor, no sé si lo conoce, doctor Gabor Mate. Hasta lo más bueno. Él dice él habla mucho del trauma y él dice que trauma no es lo que nos pasó, o sea, mi mamá me abandonó a los nueve años, vi violencia, o sea, vi abuso toda la vida, no tengo momentos de felicidad. Cuando estaba creciendo, me abusaron sexualmente un profesor. Todas estas cosas no puedo borrar nada de eso. Todo eso es parte de mi historia. Pero como reaccionaba yo a eso, se va convirtiendo en trauma y es trauma con trauma sobre trauma sobre trauma. Entonces él dice que trauma no es lo que nos pasó, sino la forma como reaccionamos a él. Y todos tenemos trauma con T mayúscula o con T minúscula. Yo creo que los que nos convertimos en adictos y que llegamos al borde de la muerte, tenemos trauma con T mayúscula y entre más. Y entre más vulnerables nos ponga, nos pongamos, entre más encontremos esa persona que nos ayuda a llegar a abrazar ese cactus, más rápido nos va a hacer vivir con la historia, poder contarla y de vez en cuando ver una que otra flor en el cactus. Exactamente. Y yo lo comparto mucho con mis pacientes, es que no es solamente al adicto. En la vida tenemos que, hay un momento que tenemos que abrazar nuestro dolor porque lo que te duele, si lo que te hace es que la respuesta normalmente toca un cactus y te pincha, tú sacas la mano, no? Entonces te vas a seguir pinchando porque vas a querer agarrarlo, porque la tendencia puede ser una relación, un ser querido que tiene un problema, puede ser dificultades que estás enfrentando, una enfermedad que estás enfrentando. Puede ser depresión, ansiedad, diagnóstico de bipolaridad, que son crónicos, que es de por vida. Cuando le queremos virar la espalda a esas situaciones difíciles, nos seguimos pinchando con ella en lugar de abrazarla y hacerla parte de nosotros. Ese dolor es parte de tu historia, es parte de tu vida. Y cuando lo abrazas y lo haces parte de tu vida, estás enfrentándolo y ahí logras entonces comenzar el proceso de superación o de recuperación, que es el caso nuestro. Así es. Y es importante. Yo siempre había querido escribir un libro siempre, o sea, si o mejor dicho, siempre nos siempre me ha gustado mucho escribir. Me ha gustado mucho leer y de hecho en la lectura encontré sosiego y paz cuando todo alrededor mío era caótico y siempre leí mucho. Me gustó mucho y inevitablemente creo que cuando uno lee, le gusta. De vez en cuando se cree escritor o se vuelve pseudopoeta o lo que sea, siempre quise escribir el libro y no pude hasta que no logré sanar. Esas heridas tan profundas y me gustaría poder decir que yo fui el que saneo, que fue o que fue el doctor Mejía o que fue, pero realmente hoy en día 25 de abril del 2024. El que me sanó fue Dios. No me cabe duda. Mucha gente me ayudó a ver esas heridas y estoy infinitamente agradecido porque pude ver de dónde venía ese dolor ahora. El la curación viene porque son heridas espirituales. La curación sólo puede venir de Dios. Entonces yo, yo patiné mucho tiempo, patiné, patiné. Nunca conté. Cuando te digo que un profesor me abusó, ese era el secreto más grande que yo tenía y yo he trabajado en campaña, en campañas para el Senado, me he reunido con tres gobernadores, he hecho una. No, yo ha sido un equipo, pero siempre hemos trabajado para hacer muchas cosas en pro y a favor de los de los jóvenes que están en Foster Care, en el sistema de cuidado de la Florida. Cambiamos leyes. Hemos hecho una cantidad de cosas. Sin embargo, esa parte de mi historia nunca la conté porque me daba vergüenza, porque siempre pensaba que me iban a juzgar, porque pensaba que porque siempre me culpé. Porque cuando, cuando el abuso ocurrió, yo tenía 13 años, ya tomaba, ya había fumado. Ya yo, o sea, yo en mi mente, yo me sentía ya un casi adulto y entonces. Yo pensé que yo había permitido ese abuso sexual de ese profesor y cuando no es hasta muchos años después que por circunstancias que yo, que ahora, por eso estoy convencido que sólo Dios hace. Dios de una forma te va poniendo situaciones en la vida donde son oportunidades para ir sanando poco a poco, para ir viendo esas heridas. Y después, si uno sigue en ese camino en los grupos, hay un dicho muy lindo que ahora lo creo, lo entiendo y es no Don Lee Before the Miracle Happens. No te vayas antes de que el milagro ocurra. Entonces, cuando, cuando uno puede ver en esos momentos que que de mucho dolor que Dios ha utilizado gente, situaciones para ir sanando, es cuando, cuando yo empiezo a sanar, empiezo a ver la herida y cuando mi hija tenía 13 años, que le da una apendicitis, que era la edad cuando el profesor me había abusado a mí. Ella está en el hospital, en el Children's Hospital, aquí en Nicolás, y entra la enfermera, estábamos mi esposa y yo con nuestra hija. Entra la enfermera y le pregunta a Sara, mi hija. Tengo que hacerle unas preguntas. ¿Quiere que sus papás se vayan de la habitación? Mi hija, en su dolor, le vi la cara de pavor cuando mira a la enfermera y le dice no quiero que nunca se vayan de mi lado. En ese momento. Yo entendí que yo a los 13 años no hubiera podido hacer nada para evitar ese abuso de ese profesor, a pesar de lo grande que yo me creía, 13 años sigue siendo un niño. Entonces, cuando veo eso y pasa otra serie de cosas y yo logro perdonar. Primero lo quise. Bueno, eso pasa después. A pesar de que eso pasó, yo todavía no había contado esta historia. Empiezo a trabajar con víctimas de tráfico humano y una de las cosas que queríamos hacer era llevar a la cárcel a los traficantes. Y una de las cosas que hacíamos era trabajar con las víctimas para que hablaran con la fiscal estatal, con el FBI, con las con las agencias del gobierno para que para que pusieran a estos traficantes en la cárcel. Una de ellas un día me dice Usted es muy duro con nosotras y usted lo único que quiere es meter a los traficantes a la cárcel. Y yo, pero cómo así? Yo esto lo estamos haciendo y ella me dice no, no, no. Usted nunca ha puesto una queja del profesor que lo abusó a usted. Porque yo ya les había contado, porque hay una cosa. Street credibility. So you can't, you can't bullshit a bullshitter. So yo necesitaba tener credibilidad con la gente, con los colas, con los sobrevivientes y con las víctimas que yo estaba trabajando. Y de la mejor forma era contándoles mi historia. Cuando me dice esto fue como un balde de agua fría y era totalmente verdadero. Si yo les contaba a ellos, pero yo al otro día yo hago la llamada, llamo al Departamento de Policía de Houston, al Houston Independent School District, escribo una carta. Ya por la por el estatus limitación ya no se podía hacer nada. Yo hago la queja y yo pensé que después de yo hacer esto, yo iba a sentir paz. Y pasó totalmente lo contrario. Me entró una sed de venganza, una necesidad de que yo quería ver a este profesor en la cárcel, me entró una obsesión, empiezo a buscarlo. Lo encuentro, está en tiene ochenta y pico de años, está en Cuernavaca, en México. Me pregunto por qué? Sí, porque él es americano, pero en fin, eso es otro. Eso es otro. Y empiezo a buscarlo, encuentro, hablo con unos amigos en una en una estación de televisión local, me conectan con la filial de ellos en México, encuentran al profesor en México, lo localizan en Cuernavaca, localizan dónde está viviendo y van a hacer un especial. Tú hablas de ser amarillista. Este iba a ser el especial amarillista. Iban a llegar a la casa de este de este profesor de ochenta y pico de años, enfocándolo con la cámara y preguntándole mire, Mr. Reeves, usted por qué abusó a Nelson Incapié en Houston en 1989? Cuando él era estudiante, yo iba a estar en satélite. Esto todo iba a ser ya estaba montado. Yo una noche estoy caminando mi perro enfrente de la iglesia donde vamos. Era tarde, yo caminando el perro y yo siento en mi corazón. Como dice una voz que me let it go. Así y yo inmediatamente en.\", \"es\", \"en\"))"
   ]
  },
  {
   "cell_type": "code",
   "execution_count": null,
   "metadata": {},
   "outputs": [],
   "source": []
  }
 ],
 "metadata": {
  "kernelspec": {
   "display_name": "spanish-radio-CFjM3rNK",
   "language": "python",
   "name": "python3"
  },
  "language_info": {
   "codemirror_mode": {
    "name": "ipython",
    "version": 3
   },
   "file_extension": ".py",
   "mimetype": "text/x-python",
   "name": "python",
   "nbconvert_exporter": "python",
   "pygments_lexer": "ipython3",
   "version": "3.11.9"
  }
 },
 "nbformat": 4,
 "nbformat_minor": 2
}
